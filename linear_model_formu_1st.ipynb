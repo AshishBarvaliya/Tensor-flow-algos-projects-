{
 "cells": [
  {
   "cell_type": "code",
   "execution_count": 44,
   "metadata": {},
   "outputs": [],
   "source": [
    "import tensorflow as tf\n",
    "import matplotlib.pyplot as plt\n",
    "\n",
    "import numpy as np"
   ]
  },
  {
   "cell_type": "code",
   "execution_count": 31,
   "metadata": {},
   "outputs": [
    {
     "data": {
      "text/plain": [
       "'1.4.0'"
      ]
     },
     "execution_count": 31,
     "metadata": {},
     "output_type": "execute_result"
    }
   ],
   "source": [
    "tf.__version__"
   ]
  },
  {
   "cell_type": "code",
   "execution_count": 32,
   "metadata": {},
   "outputs": [],
   "source": [
    "observation = 1000\n",
    "\n",
    "x1 = np.random.uniform(low = -10, high=10, size=[observation,1])\n",
    "x2 = np.random.uniform(-10,10,[observation,1])\n",
    "\n",
    "gen_input =np.column_stack((x1, x2))\n",
    "\n",
    "noice = np.random.uniform(-1,1,[observation,1])\n",
    " \n",
    "gen_target = 2*x1 - 3*x2 + 7 + noice\n",
    "np.savez(\"TF_genDATA\",inputs =gen_input,targets =gen_target) \n"
   ]
  },
  {
   "cell_type": "markdown",
   "metadata": {},
   "source": [
    "# Outling the model"
   ]
  },
  {
   "cell_type": "code",
   "execution_count": 33,
   "metadata": {},
   "outputs": [],
   "source": [
    "input_size =2\n",
    "op_size = 1\n",
    "\n",
    "inputs = tf.placeholder(tf.float32, [None, input_size])\n",
    "targets = tf.placeholder(tf.float32, [None, op_size])\n",
    "\n",
    "weights = tf.Variable(tf.random_uniform([input_size, op_size], minval=-0.1, maxval=0.1))\n",
    "biases = tf.Variable(tf.random_uniform([op_size], minval=-0.1, maxval=0.1))\n",
    "\n",
    "outputs = tf.matmul(inputs,weights) + biases"
   ]
  },
  {
   "cell_type": "markdown",
   "metadata": {},
   "source": [
    "# Loss and GD"
   ]
  },
  {
   "cell_type": "code",
   "execution_count": 39,
   "metadata": {},
   "outputs": [],
   "source": [
    "loss = tf.losses.mean_squared_error(targets, outputs)/2.\n",
    "optimizer =tf.train.GradientDescentOptimizer(learning_rate= 0.05).minimize(loss)"
   ]
  },
  {
   "cell_type": "markdown",
   "metadata": {},
   "source": [
    "# prepare for execution"
   ]
  },
  {
   "cell_type": "code",
   "execution_count": 40,
   "metadata": {},
   "outputs": [],
   "source": [
    "sess = tf.InteractiveSession()\n",
    "initializer = tf.global_variables_initializer()\n",
    "sess.run(initializer)"
   ]
  },
  {
   "cell_type": "code",
   "execution_count": 46,
   "metadata": {},
   "outputs": [],
   "source": [
    "training_data = np.load(\"TF_genDATA.npz\")"
   ]
  },
  {
   "cell_type": "code",
   "execution_count": 47,
   "metadata": {},
   "outputs": [
    {
     "name": "stdout",
     "output_type": "stream",
     "text": [
      "2.169578\n",
      "1.9746025\n",
      "1.798894\n",
      "1.6404216\n",
      "1.4974456\n",
      "1.3684276\n",
      "1.2519976\n",
      "1.1469235\n",
      "1.0520954\n",
      "0.9665139\n",
      "0.8892766\n",
      "0.8195694\n",
      "0.75665843\n",
      "0.69988114\n",
      "0.6486395\n",
      "0.60239345\n",
      "0.5606562\n",
      "0.522988\n",
      "0.48899293\n",
      "0.458312\n",
      "0.43062225\n",
      "0.40563196\n",
      "0.3830784\n",
      "0.36272332\n",
      "0.344353\n",
      "0.3277737\n",
      "0.31281054\n",
      "0.29930654\n",
      "0.28711897\n",
      "0.27611968\n",
      "0.26619288\n",
      "0.25723365\n",
      "0.24914804\n",
      "0.24185058\n",
      "0.23526473\n",
      "0.22932103\n",
      "0.22395669\n",
      "0.2191154\n",
      "0.21474612\n",
      "0.21080291\n",
      "0.20724402\n",
      "0.20403217\n",
      "0.20113349\n",
      "0.19851728\n",
      "0.1961562\n",
      "0.19402534\n",
      "0.19210224\n",
      "0.1903666\n",
      "0.18880025\n",
      "0.18738665\n",
      "0.18611075\n",
      "0.18495929\n",
      "0.18391998\n",
      "0.18298212\n",
      "0.18213567\n",
      "0.18137181\n",
      "0.1806823\n",
      "0.18006012\n",
      "0.17949854\n",
      "0.1789918\n",
      "0.17853433\n",
      "0.17812152\n",
      "0.17774893\n",
      "0.17741275\n",
      "0.17710926\n",
      "0.17683542\n",
      "0.17658824\n",
      "0.17636517\n",
      "0.17616384\n",
      "0.17598212\n",
      "0.17581809\n",
      "0.17567013\n",
      "0.17553656\n",
      "0.17541602\n",
      "0.17530717\n",
      "0.17520906\n",
      "0.17512044\n",
      "0.17504044\n",
      "0.1749683\n",
      "0.17490315\n",
      "0.1748443\n",
      "0.17479129\n",
      "0.17474338\n",
      "0.17470017\n",
      "0.17466119\n",
      "0.17462593\n",
      "0.17459425\n",
      "0.17456555\n",
      "0.17453967\n",
      "0.17451629\n",
      "0.17449526\n",
      "0.17447619\n",
      "0.17445904\n",
      "0.1744436\n",
      "0.17442957\n",
      "0.17441696\n",
      "0.17440556\n",
      "0.17439532\n",
      "0.17438598\n",
      "0.17437768\n"
     ]
    }
   ],
   "source": [
    "for e in range(100):\n",
    "    _, curr_loss =sess.run([optimizer,loss],\n",
    "                          feed_dict={inputs:training_data[\"inputs\"],targets:training_data[\"targets\"]})\n",
    "    print(curr_loss)"
   ]
  },
  {
   "cell_type": "code",
   "execution_count": 48,
   "metadata": {},
   "outputs": [
    {
     "data": {
      "image/png": "[encoded data removed]",
      "text/plain": [
       "<matplotlib.figure.Figure at 0x21d8bbe1710>"
      ]
     },
     "metadata": {
      "needs_background": "light"
     },
     "output_type": "display_data"
    }
   ],
   "source": [
    "out = sess.run([outputs], \n",
    "               feed_dict={inputs: training_data['inputs']})\n",
    "\n",
    "plt.plot(np.squeeze(out), np.squeeze(training_data['targets']))\n",
    "plt.xlabel('outputs')\n",
    "plt.ylabel('targets')\n",
    "plt.show()"
   ]
  },
  {
   "cell_type": "code",
   "execution_count": null,
   "metadata": {},
   "outputs": [],
   "source": []
  }
 ],
 "metadata": {
  "kernelspec": {
   "display_name": "Python 3",
   "language": "python",
   "name": "python3"
  },
  "language_info": {
   "codemirror_mode": {
    "name": "ipython",
    "version": 3
   },
   "file_extension": ".py",
   "mimetype": "text/x-python",
   "name": "python",
   "nbconvert_exporter": "python",
   "pygments_lexer": "ipython3",
   "version": "3.6.4"
  }
 },
 "nbformat": 4,
 "nbformat_minor": 2
}
